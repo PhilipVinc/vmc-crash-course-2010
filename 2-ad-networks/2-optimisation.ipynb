{
 "cells": [
  {
   "cell_type": "markdown",
   "metadata": {
    "slideshow": {
     "slide_type": "slide"
    }
   },
   "source": [
    "# <center> Crash Course on Variational Monte Carlo </center>\n",
    "<center> Lecture 3: AD and Neural Networks</center>\n",
    "\n",
    "<h3><center>Filippo Vicentini</center></h3>\n",
    "\n",
    "<center>filippo.vicentini@epfl.ch</center>\n",
    "\n",
    "\n",
    "<center>https://github.com/PhilipVinc/vmc-crash-course-2010</center>\n",
    "\n",
    "\n",
    "\n",
    "EPFL, 22 October 2020"
   ]
  },
  {
   "cell_type": "code",
   "execution_count": 5,
   "metadata": {
    "slideshow": {
     "slide_type": "skip"
    }
   },
   "outputs": [],
   "source": [
    "# Some imports®\n",
    "import jax\n",
    "import numpy as np\n",
    "from jax import numpy as jnp\n",
    "from matplotlib import pyplot as plt"
   ]
  },
  {
   "cell_type": "markdown",
   "metadata": {
    "slideshow": {
     "slide_type": "slide"
    }
   },
   "source": [
    "# <center>Jastrow Wavefunction</center>\n",
    "\n",
    "The jastrow ansatz for the wavefunction is:\n",
    "$$\n",
    "\\psi_{W}(\\sigma_1, \\dots, \\sigma_N) = \\exp[\\sum_{i,j} \\sigma_i W_{i,j} \\sigma_j] = \\exp[\\sigma^T W \\sigma]\n",
    "$$\n",
    "\n",
    "We actually want to encode the \n",
    "$$\n",
    "\\log\\psi_{W}(\\sigma_1, \\dots, \\sigma_N) = \\sigma^T W \\sigma\n",
    "$$\n"
   ]
  },
  {
   "cell_type": "markdown",
   "metadata": {
    "slideshow": {
     "slide_type": "slide"
    }
   },
   "source": [
    "## Using NetKet \n",
    "The devil is still in the python"
   ]
  },
  {
   "cell_type": "code",
   "execution_count": 6,
   "metadata": {
    "slideshow": {
     "slide_type": "fragment"
    }
   },
   "outputs": [],
   "source": [
    "# Importing netket (that ain't too hard)\n",
    "import netket as nk"
   ]
  },
  {
   "cell_type": "code",
   "execution_count": 7,
   "metadata": {
    "slideshow": {
     "slide_type": "fragment"
    }
   },
   "outputs": [],
   "source": [
    "# How many spins we want in our model\n",
    "N = 8 \n",
    "\n",
    "# Define a 1D lattice (or graph) for our model\n",
    "graph = nk.graph.Grid([N], pbc=True)\n",
    "\n",
    "# Define the Hilbert space\n",
    "ℋ = nk.hilbert.Spin(graph, s=0.5)"
   ]
  },
  {
   "cell_type": "code",
   "execution_count": 81,
   "metadata": {
    "slideshow": {
     "slide_type": "fragment"
    }
   },
   "outputs": [],
   "source": [
    "Ĥ = nk.operator.Ising(h=2.0, hilbert=ℋ)"
   ]
  },
  {
   "cell_type": "markdown",
   "metadata": {
    "slideshow": {
     "slide_type": "slide"
    }
   },
   "source": [
    "## Defining Neural Networks in Jax\n",
    "\n",
    "A simple example: The RBM (Restricted Boltzmann Machine):\n",
    "$$\n",
    " \\psi(\\sigma) = \\sum_{j=1}^{\\alpha N} \\mathcal{G}\\left(\\sum_{i=1}^N W_i^j \\sigma_j + b_i\\right)\n",
    "$$\n",
    "But i prefer to write it like:\n",
    "$$\n",
    "    \\psi(\\sigma) = \\left[\\Sigma \\circ \\mathcal{G} \\circ D\\right] (\\sigma)\n",
    "$$"
   ]
  },
  {
   "cell_type": "markdown",
   "metadata": {
    "slideshow": {
     "slide_type": "subslide"
    }
   },
   "source": [
    "### The dense layer (also known as affine layer)\n",
    "The dense layer is an affine transformation:\n",
    "$$\n",
    " \\vec{D} (\\sigma) = W \\vec\\sigma +  \\vec{b}   \n",
    "$$\n",
    "\n",
    "note: Sometimes, the element-wise activation function is included in the dense layer (but we do not)"
   ]
  },
  {
   "cell_type": "code",
   "execution_count": 82,
   "metadata": {
    "slideshow": {
     "slide_type": "skip"
    }
   },
   "outputs": [],
   "source": [
    "import jax"
   ]
  },
  {
   "cell_type": "code",
   "execution_count": 83,
   "metadata": {
    "slideshow": {
     "slide_type": "fragment"
    }
   },
   "outputs": [],
   "source": [
    "# Stax is an (experimental) submodule with neural-network related stuff\n",
    "from jax.experimental import stax"
   ]
  },
  {
   "cell_type": "code",
   "execution_count": 84,
   "metadata": {
    "slideshow": {
     "slide_type": "fragment"
    }
   },
   "outputs": [],
   "source": [
    "α = 2 # We define the hidden layer density\n",
    "dense = stax.Dense(α * ℋ.size) # As we have shown last time, this is actually a tuple of functions...\n",
    "dense_init, dense_apply = dense"
   ]
  },
  {
   "cell_type": "code",
   "execution_count": 85,
   "metadata": {
    "slideshow": {
     "slide_type": "fragment"
    }
   },
   "outputs": [
    {
     "name": "stdout",
     "output_type": "stream",
     "text": [
      "The dense layer output shape is: (-1, 16)\n",
      "The dense layer weights has type: <class 'tuple'> of length  2\n",
      "\t dense_weights[0] =  <class 'jax.interpreters.xla.DeviceArray'> , shape = (8, 16) , dtype= float32\n",
      "\t dense_weights[1] =  <class 'jax.interpreters.xla.DeviceArray'> , shape = (16,)   , dtype= float32\n"
     ]
    }
   ],
   "source": [
    "dense_out_shape, dense_weights = dense_init(jax.random.PRNGKey(0), (-1, ℋ.size))\n",
    "print(\"The dense layer output shape is:\", dense_out_shape)\n",
    "print(\"The dense layer weights has type:\", type(dense_weights), \"of length \", len(dense_weights))\n",
    "print(\"\\t dense_weights[0] = \", type(dense_weights[0]), \", shape =\", dense_weights[0].shape, \", dtype=\", dense_weights[0].dtype)\n",
    "print(\"\\t dense_weights[1] = \", type(dense_weights[1]), \", shape =\", dense_weights[1].shape, \"  , dtype=\", dense_weights[1].dtype)"
   ]
  },
  {
   "cell_type": "markdown",
   "metadata": {
    "slideshow": {
     "slide_type": "subslide"
    }
   },
   "source": [
    "### The activation function\n",
    "We chose logcosh: \n",
    "\n",
    "$$ \n",
    "    \\mathcal{G}\\circ \\vec{x} = log\\circ cosh \\circ \\vec{x} \n",
    "$$\n",
    "    \n",
    "This is always applied elementwise"
   ]
  },
  {
   "cell_type": "code",
   "execution_count": 86,
   "metadata": {
    "slideshow": {
     "slide_type": "subslide"
    }
   },
   "outputs": [],
   "source": [
    "# We define our activation function\n",
    "def logcosh(x):\n",
    "    # log(cosh(x)) but smarter\n",
    "    x = x * jnp.sign(x.real)\n",
    "    return x + jnp.log(1.0 + jnp.exp(-2.0 * x)) - jnp.log(2.0)"
   ]
  },
  {
   "cell_type": "code",
   "execution_count": 87,
   "metadata": {
    "slideshow": {
     "slide_type": "fragment"
    }
   },
   "outputs": [],
   "source": [
    "# We define the layer applying the activation function element-wise\n",
    "LogCoshLayer = stax.elementwise(logcosh)"
   ]
  },
  {
   "cell_type": "code",
   "execution_count": 88,
   "metadata": {
    "slideshow": {
     "slide_type": "fragment"
    }
   },
   "outputs": [
    {
     "name": "stdout",
     "output_type": "stream",
     "text": [
      "The elementwise layer output shape is: (-1, 16)\n",
      "The elementwise layer weights has type: <class 'tuple'> of length  0\n"
     ]
    }
   ],
   "source": [
    "ew_shape, ew_weights = LogCoshLayer[0](jax.random.PRNGKey(0), dense_out_shape)\n",
    "print(\"The elementwise layer output shape is:\", ew_shape)\n",
    "print(\"The elementwise layer weights has type:\", type(ew_weights), \"of length \", len(ew_weights))"
   ]
  },
  {
   "cell_type": "markdown",
   "metadata": {},
   "source": [
    "### The reduction layer\n",
    "We take as reduction the sum of all the inputs $x\\in\\mathbb{R}^M$:\n",
    "\n",
    "$$\n",
    "\\Sigma \\circ \\vec{x} = \\sum_i^{M} x_i\n",
    "$$"
   ]
  },
  {
   "cell_type": "code",
   "execution_count": 89,
   "metadata": {
    "slideshow": {
     "slide_type": "fragment"
    }
   },
   "outputs": [],
   "source": [
    "# The reduction layer\n",
    "def SumLayer():\n",
    "    def init_fun(rng, input_shape):\n",
    "        output_shape = (-1, 1)\n",
    "        return output_shape, ()\n",
    "\n",
    "    def apply_fun(params, inputs, **kwargs):\n",
    "        return inputs.sum(axis=-1)\n",
    "\n",
    "    return init_fun, apply_fun"
   ]
  },
  {
   "cell_type": "markdown",
   "metadata": {
    "slideshow": {
     "slide_type": "subslide"
    }
   },
   "source": [
    "### Chaining the functions together\n",
    "$$\n",
    "    \\psi = \\left[\\Sigma \\circ \\mathcal{G} \\circ D\\right]\n",
    "$$\n",
    "\n",
    "Known as a serial layer or chain"
   ]
  },
  {
   "cell_type": "code",
   "execution_count": 90,
   "metadata": {
    "slideshow": {
     "slide_type": "fragment"
    }
   },
   "outputs": [],
   "source": [
    "#And we can put everything together by chaining everything with a serial (or chain) object:\n",
    "neural_net = stax.serial(stax.Dense(α * ℋ.size), stax.elementwise(logcosh), SumLayer())"
   ]
  },
  {
   "cell_type": "code",
   "execution_count": 91,
   "metadata": {
    "slideshow": {
     "slide_type": "fragment"
    }
   },
   "outputs": [],
   "source": [
    "# Wrap it in a netket machine object, associating the hilbert space\n",
    "ψ = nk.machine.Jax(ℋ, neural_net, dtype=float)"
   ]
  },
  {
   "cell_type": "markdown",
   "metadata": {
    "slideshow": {
     "slide_type": "subslide"
    }
   },
   "source": [
    "## Intermezzo: About PyTrees\n",
    "Jax, PyTorch, Flux, and basically ANY modern ML framework store parameters in a ~~Py~~Tree.\n",
    "\n",
    "A ~~Py~~Tree tree structure of containers, ordered or unordered, recursively nested, which might or might not hold some leaf nodes. \n",
    "Data is only stored in leaf nodes, which are usually N-d arrays or similar structures holding state."
   ]
  },
  {
   "cell_type": "code",
   "execution_count": 92,
   "metadata": {
    "slideshow": {
     "slide_type": "fragment"
    }
   },
   "outputs": [
    {
     "name": "stdout",
     "output_type": "stream",
     "text": [
      "ψ has  3 sets of parameters, 1 per layer:\n",
      "\t 1. has length: 2 with shapes: (8, 16) and  (16,)\n",
      "\t 2. has length: 0\n",
      "\t 3. has length: 0\n"
     ]
    }
   ],
   "source": [
    "print(\"ψ has \", len(ψ.parameters), \"sets of parameters, 1 per layer:\")\n",
    "print(\"\\t 1. has length:\", len(ψ.parameters[0]), \"with shapes:\", \n",
    "          ψ.parameters[0][0].shape, \"and \", ψ.parameters[0][1].shape)\n",
    "print(\"\\t 2. has length:\", len(ψ.parameters[1]))\n",
    "print(\"\\t 3. has length:\", len(ψ.parameters[2]))"
   ]
  },
  {
   "cell_type": "markdown",
   "metadata": {
    "slideshow": {
     "slide_type": "fragment"
    }
   },
   "source": [
    "Transformations you can do on trees:\n",
    "\n",
    "  - Apply a function to all leaf nodes, return the transformed tree:"
   ]
  },
  {
   "cell_type": "code",
   "execution_count": 93,
   "metadata": {
    "slideshow": {
     "slide_type": "fragment"
    }
   },
   "outputs": [
    {
     "name": "stdout",
     "output_type": "stream",
     "text": [
      "(8, 16)\n",
      "(16,)\n"
     ]
    }
   ],
   "source": [
    "jax.tree_map(lambda x: print(x.shape),  ψ.parameters);"
   ]
  },
  {
   "cell_type": "markdown",
   "metadata": {
    "slideshow": {
     "slide_type": "subslide"
    }
   },
   "source": [
    "  - Flatten the tree into an ordered list of leaf-nodes, and additional data used to reconstruct the tree from the flattened data"
   ]
  },
  {
   "cell_type": "code",
   "execution_count": 94,
   "metadata": {
    "slideshow": {
     "slide_type": "fragment"
    }
   },
   "outputs": [
    {
     "name": "stdout",
     "output_type": "stream",
     "text": [
      "flat_pars has is a <class 'list'> with 2 leaf-nodes inside:\n",
      "\t the 0 - th element is a <class 'jax.interpreters.xla.DeviceArray'> of dtype float32 and shape (8, 16)\n",
      "\t the 1 - th element is a <class 'jax.interpreters.xla.DeviceArray'> of dtype float32 and shape (16,)\n",
      "tree_structure is a: <class 'jaxlib.xla_extension.PyTreeDef'>\n"
     ]
    }
   ],
   "source": [
    "flat_pars, tree_structure = jax.tree_flatten(ψ.parameters)\n",
    "print(\"flat_pars has is a\", type(flat_pars), \"with\", len(flat_pars), \"leaf-nodes inside:\")\n",
    "for (i, el) in enumerate(flat_pars):\n",
    "    print(\"\\t the\", i,\"- th element is a\", type(el), \"of dtype\", el.dtype, \"and shape\", el.shape)\n",
    "print(\"tree_structure is a:\", type(tree_structure))"
   ]
  },
  {
   "cell_type": "markdown",
   "metadata": {
    "slideshow": {
     "slide_type": "fragment"
    }
   },
   "source": [
    "  - Reconstruct the PyTree from the flattened data"
   ]
  },
  {
   "cell_type": "code",
   "execution_count": 95,
   "metadata": {
    "slideshow": {
     "slide_type": "fragment"
    }
   },
   "outputs": [
    {
     "name": "stdout",
     "output_type": "stream",
     "text": [
      "new_tree has  3 sets of parameters:\n",
      "\t 1. has length: 2 with shapes: (8, 16) and  (16,)\n",
      "\t 2. has length: 0\n",
      "\t 3. has length: 0\n"
     ]
    }
   ],
   "source": [
    "new_tree = jax.tree_unflatten(tree_structure, flat_pars)\n",
    "print(\"new_tree has \", len(new_tree), \"sets of parameters:\")\n",
    "print(\"\\t 1. has length:\", len(ψ.parameters[0]), \"with shapes:\", \n",
    "          ψ.parameters[0][0].shape, \"and \", ψ.parameters[0][1].shape)\n",
    "print(\"\\t 2. has length:\", len(ψ.parameters[1]))\n",
    "print(\"\\t 3. has length:\", len(ψ.parameters[2]))"
   ]
  },
  {
   "cell_type": "markdown",
   "metadata": {
    "slideshow": {
     "slide_type": "slide"
    }
   },
   "source": [
    "## Back To all our ingredients to optimise the energy..."
   ]
  },
  {
   "cell_type": "code",
   "execution_count": 96,
   "metadata": {
    "slideshow": {
     "slide_type": "fragment"
    }
   },
   "outputs": [],
   "source": [
    "# The machine:\n",
    "ψ = nk.machine.Jax(ℋ, neural_net, dtype=float)\n",
    "\n",
    "# Local sampler (we saw it the previous lecture)\n",
    "sampler = nk.sampler.MetropolisLocal(ψ, n_chains=16, sweep_size=N)"
   ]
  },
  {
   "cell_type": "code",
   "execution_count": 97,
   "metadata": {
    "slideshow": {
     "slide_type": "fragment"
    }
   },
   "outputs": [],
   "source": [
    "def sample(sampler, n_samples):\n",
    "    sampler.reset()\n",
    "    sampler.generate_samples(n_samples//10)\n",
    "    σs = sampler.generate_samples(n_samples)\n",
    "    return σs"
   ]
  },
  {
   "cell_type": "code",
   "execution_count": 178,
   "metadata": {
    "slideshow": {
     "slide_type": "fragment"
    }
   },
   "outputs": [],
   "source": [
    "from netket.operator import local_values\n",
    "def estimate_observable(Ô, ψ, σ_samples):\n",
    "    \n",
    "    # Flatten the batch and chain dimensions\n",
    "    N = σ_samples.shape[-1]\n",
    "    σ_samples_r = σ_samples.reshape((-1, N))\n",
    "\n",
    "    # Compute the  Oᴸᵒᶜ(σ)\n",
    "    loc = local_values(Ô, ψ, σ_samples_r).reshape(σ_samples.shape[0:2])\n",
    "    \n",
    "    return loc, nk.stats.statistics(loc.T)"
   ]
  },
  {
   "cell_type": "code",
   "execution_count": 180,
   "metadata": {
    "slideshow": {
     "slide_type": "fragment"
    }
   },
   "outputs": [
    {
     "name": "stdout",
     "output_type": "stream",
     "text": [
      "<H> =  -11.966+0.000j ± 0.039 [σ²=12.126, R̂=1.0001]\n"
     ]
    }
   ],
   "source": [
    "σs = sample(sampler, 500)\n",
    "elocs, stat = estimate_observable(Ĥ, ψ, σs)\n",
    "print(\"<H> = \", stat)"
   ]
  },
  {
   "cell_type": "markdown",
   "metadata": {
    "slideshow": {
     "slide_type": "subslide"
    }
   },
   "source": [
    "### The gradient of the local energy\n",
    "Recall:\n",
    "$$\n",
    "    F_k = \\langle \\hat{E}^\\text{Loc} \\hat{O}_k \\rangle -  \\langle\\hat{E}^\\text{Loc}\\rangle \\langle\\hat{O}_k \\rangle = \\langle \\Delta\\hat{E}^\\text{Loc} \\Delta\\hat{O}_k \\rangle\n",
    "$$\n",
    "\n",
    "where \n",
    "$$\n",
    "\\Delta\\hat{O} =\\Delta\\hat{O} - \\langle \\Delta\\hat{O} \\rangle \n",
    "$$"
   ]
  },
  {
   "cell_type": "code",
   "execution_count": 181,
   "metadata": {
    "slideshow": {
     "slide_type": "fragment"
    }
   },
   "outputs": [],
   "source": [
    "def estimate_gradient(σ_samples, ψ, Eloc):\n",
    "    # Center the Local energies: Eᴸᵒᶜ = Eᴸᵒᶜ - ⟨Eᴸᵒᶜ⟩ \n",
    "    Eloc -= nk.stats.mean(Eloc)\n",
    "    \n",
    "    # Flatten the batch dimension\n",
    "    N = σ_samples.shape[-1]\n",
    "    σ_samples_r = σ_samples.reshape((-1, N))\n",
    "    n_samples_tot = σ_samples_r.shape[0]\n",
    "    Eloc_r = Eloc.reshape(-1, 1)\n",
    "    \n",
    "    # Compute the propagation of the \n",
    "    grads = ψ.vector_jacobian_prod(σ_samples_r, Eloc_r / n_samples_tot)\n",
    "\n",
    "    # if real parameters but complex gradient, take only real part\n",
    "    if not ψ.has_complex_parameters:\n",
    "        return nk.vmc_common.tree_map(lambda x: x.real, grads)\n",
    "    else:\n",
    "        return grads"
   ]
  },
  {
   "cell_type": "markdown",
   "metadata": {
    "slideshow": {
     "slide_type": "subslide"
    }
   },
   "source": [
    "## Iterative optimisation according to gradient descent.."
   ]
  },
  {
   "cell_type": "code",
   "execution_count": 183,
   "metadata": {
    "slideshow": {
     "slide_type": "fragment"
    }
   },
   "outputs": [],
   "source": [
    "# So to perform one step of optimisation...\n",
    "n_samples = 2000\n",
    "F = estimate_gradient(σs, ψ, elocs)"
   ]
  },
  {
   "cell_type": "code",
   "execution_count": 194,
   "metadata": {
    "slideshow": {
     "slide_type": "fragment"
    }
   },
   "outputs": [],
   "source": [
    "# Build the optimiser\n",
    "op = nk.optimizer.jax.Sgd(ψ, learning_rate=0.05)"
   ]
  },
  {
   "cell_type": "code",
   "execution_count": 195,
   "metadata": {
    "slideshow": {
     "slide_type": "fragment"
    }
   },
   "outputs": [],
   "source": [
    "# Generate the new parameters\n",
    "new_params = op.update(F, ψ.parameters)\n",
    "\n",
    "# Replace the old parameters with the new\n",
    "ψ.parameters = new_params"
   ]
  },
  {
   "cell_type": "markdown",
   "metadata": {
    "slideshow": {
     "slide_type": "slide"
    }
   },
   "source": [
    "## The training loop"
   ]
  },
  {
   "cell_type": "code",
   "execution_count": 217,
   "metadata": {
    "slideshow": {
     "slide_type": "skip"
    }
   },
   "outputs": [],
   "source": [
    "## This cell is here so that I don't have to go back up if I try to change the network...\n",
    "\n",
    "N = 8\n",
    "\n",
    "# Define a 1D lattice (or graph) for our model\n",
    "graph = nk.graph.Grid([N], pbc=True)\n",
    "\n",
    "# Define the Hilbert space\n",
    "ℋ = nk.hilbert.Spin(graph, s=0.5)\n",
    "\n",
    "neural_net = stax.serial(stax.Dense(2 * ℋ.size), stax.elementwise(logcosh), SumLayer())\n",
    "\n",
    "ψ = nk.machine.Jax(ℋ, neural_net, dtype=float)\n",
    "\n",
    "# Local sampler (we saw it the previous lecture)\n",
    "sampler = nk.sampler.MetropolisLocal(ψ, n_chains=16, sweep_size=N)\n",
    "\n",
    "# The ham\n",
    "Ĥ = nk.operator.Ising(h=0.6, hilbert=ℋ)\n",
    "\n",
    "op = nk.optimizer.jax.Sgd(ψ, learning_rate=0.05)"
   ]
  },
  {
   "cell_type": "code",
   "execution_count": 218,
   "metadata": {
    "slideshow": {
     "slide_type": "fragment"
    }
   },
   "outputs": [],
   "source": [
    "Evals = []\n",
    "for i in range(100):\n",
    "    σs = sample(sampler, 500)\n",
    "    elocs, stat = estimate_observable(Ĥ, ψ, σs)\n",
    "    \n",
    "    F = estimate_gradient(σs, ψ, elocs)\n",
    "    ψ.parameters = op.update(F, ψ.parameters)\n",
    "    \n",
    "    Evals.append(stat)"
   ]
  },
  {
   "cell_type": "code",
   "execution_count": 219,
   "metadata": {
    "slideshow": {
     "slide_type": "fragment"
    }
   },
   "outputs": [],
   "source": [
    "# Exact solution\n",
    "sol = nk.exact.lanczos_ed(Ĥ)\n",
    "E0 = sol.eigenvalues"
   ]
  },
  {
   "cell_type": "code",
   "execution_count": 222,
   "metadata": {
    "scrolled": true,
    "slideshow": {
     "slide_type": "fragment"
    }
   },
   "outputs": [
    {
     "data": {
      "text/plain": [
       "<matplotlib.collections.LineCollection at 0x1441240a0>"
      ]
     },
     "execution_count": 222,
     "metadata": {},
     "output_type": "execute_result"
    },
    {
     "data": {
      "image/png": "[encoded data removed]",
      "text/plain": [
       "<Figure size 432x288 with 1 Axes>"
      ]
     },
     "metadata": {
      "needs_background": "light"
     },
     "output_type": "display_data"
    }
   ],
   "source": [
    "plt.plot([e.mean for e in Evals])\n",
    "#plt.plot([e.mean for e in Evals2])\n",
    "plt.hlines([E0], xmin=0, xmax=len(Evals), colors=['red'])"
   ]
  },
  {
   "cell_type": "code",
   "execution_count": null,
   "metadata": {},
   "outputs": [],
   "source": []
  },
  {
   "cell_type": "code",
   "execution_count": null,
   "metadata": {},
   "outputs": [],
   "source": []
  },
  {
   "cell_type": "code",
   "execution_count": null,
   "metadata": {},
   "outputs": [],
   "source": []
  },
  {
   "cell_type": "code",
   "execution_count": null,
   "metadata": {},
   "outputs": [],
   "source": []
  },
  {
   "cell_type": "code",
   "execution_count": null,
   "metadata": {},
   "outputs": [],
   "source": []
  },
  {
   "cell_type": "code",
   "execution_count": null,
   "metadata": {},
   "outputs": [],
   "source": []
  },
  {
   "cell_type": "code",
   "execution_count": null,
   "metadata": {},
   "outputs": [],
   "source": []
  },
  {
   "cell_type": "code",
   "execution_count": null,
   "metadata": {},
   "outputs": [],
   "source": []
  }
 ],
 "metadata": {
  "@webio": {
   "lastCommId": null,
   "lastKernelId": null
  },
  "celltoolbar": "Slideshow",
  "kernelspec": {
   "display_name": "Teaching-1-netket",
   "language": "python",
   "name": "teaching-1-netket"
  },
  "language_info": {
   "codemirror_mode": {
    "name": "ipython",
    "version": 3
   },
   "file_extension": ".py",
   "mimetype": "text/x-python",
   "name": "python",
   "nbconvert_exporter": "python",
   "pygments_lexer": "ipython3",
   "version": "3.8.5"
  }
 },
 "nbformat": 4,
 "nbformat_minor": 4
}
