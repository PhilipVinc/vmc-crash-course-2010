{
 "cells": [
  {
   "cell_type": "markdown",
   "metadata": {
    "slideshow": {
     "slide_type": "slide"
    }
   },
   "source": [
    "# <center> Crash Course on Variational Monte Carlo </center>\n",
    "<center> Lecture 2: Markov Chain Monte Carlo and Netket</center>\n",
    "\n",
    "<h3><center>Filippo Vicentini</center></h3>\n",
    "\n",
    "<center>filippo.vicentini@epfl.ch</center>\n",
    "\n",
    "\n",
    "<center>https://github.com/PhilipVinc/vmc-crash-course-2010</center>\n",
    "\n",
    "\n",
    "\n",
    "EPFL, 22 October 2020"
   ]
  },
  {
   "cell_type": "markdown",
   "metadata": {
    "slideshow": {
     "slide_type": "slide"
    }
   },
   "source": [
    "# Setup / Prerequisites\n",
    "\n",
    "- Python >= 3.6\n",
    "- Jax\n",
    "- NetKet@v3.0 \n",
    "- MPI compiler (mandatory only if you are on linux)\n",
    "    `sudo apt install mpich`"
   ]
  },
  {
   "cell_type": "markdown",
   "metadata": {
    "slideshow": {
     "slide_type": "subslide"
    }
   },
   "source": [
    "```python\n",
    "➜ python3 --version\n",
    "Python 3.8.5\n",
    "\n",
    "➜ which mpicc\n",
    "/usr/local/bin/mpicc\n",
    "\n",
    "➜ mkdir netket-lectures && cd netket-lectures\n",
    "\n",
    "➜ python3 -m venv nk-env\n",
    "\n",
    "➜ source nk-env/bin/activate\n",
    "\n",
    "➜ which python\n",
    "/Users/filippovicentini/netket-lectures/nk-env/bin/python\n",
    "```"
   ]
  },
  {
   "cell_type": "markdown",
   "metadata": {
    "slideshow": {
     "slide_type": "subslide"
    }
   },
   "source": [
    "```python\n",
    "\n",
    "➜ pip install jax jaxlib mpi4jax matplotlib\n",
    "...\n",
    "\n",
    "➜ pip install git+https://github.com/netket/netket@v3.0\n",
    "...\n",
    "\n",
    "# To activate jupyter\n",
    "➜ pip install jupyterlab ipykernel\n",
    "\n",
    "➜ python -m ipykernel install --name \"netket-lectures\" \n",
    "\n",
    "➜ jupyter lab\n",
    "```"
   ]
  },
  {
   "cell_type": "code",
   "execution_count": 1,
   "metadata": {
    "slideshow": {
     "slide_type": "skip"
    }
   },
   "outputs": [],
   "source": [
    "# Some imports®\n",
    "import jax\n",
    "import numpy as np\n",
    "from jax import numpy as jnp\n",
    "from matplotlib import pyplot as plt"
   ]
  },
  {
   "cell_type": "markdown",
   "metadata": {
    "slideshow": {
     "slide_type": "slide"
    }
   },
   "source": [
    "# <center>Jastrow Wavefunction</center>\n",
    "\n",
    "The jastrow ansatz for the wavefunction is:\n",
    "$$\n",
    "\\psi_{W}(\\sigma_1, \\dots, \\sigma_N) = \\exp[\\sum_{i,j} \\sigma_i W_{i,j} \\sigma_j] = \\exp[\\sigma^T W \\sigma]\n",
    "$$\n",
    "\n",
    "We actually want to encode the \n",
    "$$\n",
    "\\log\\psi_{W}(\\sigma_1, \\dots, \\sigma_N) = \\sigma^T W \\sigma\n",
    "$$\n"
   ]
  },
  {
   "cell_type": "markdown",
   "metadata": {
    "slideshow": {
     "slide_type": "subslide"
    }
   },
   "source": [
    "# Storing numerical data\n",
    "\n",
    "In python we can store data within lists (Cell arrays in Matlab):"
   ]
  },
  {
   "cell_type": "code",
   "execution_count": 2,
   "metadata": {
    "slideshow": {
     "slide_type": "fragment"
    }
   },
   "outputs": [
    {
     "name": "stdout",
     "output_type": "stream",
     "text": [
      "[1, 2, 3, 4, 1.5, 2.3, 3.5]\n"
     ]
    }
   ],
   "source": [
    "my_list = [1,2,3,4, 1.5, 2.3, 3.5]\n",
    "print(my_list)"
   ]
  },
  {
   "cell_type": "markdown",
   "metadata": {
    "slideshow": {
     "slide_type": "fragment"
    }
   },
   "source": [
    "However this does not store contiguously the numerical data, which will lead to very bad performance.\n",
    "\n",
    "<img src=\"img/pylist.png\" alt=\"img/pylist\" width=\"300\"/>"
   ]
  },
  {
   "cell_type": "markdown",
   "metadata": {
    "slideshow": {
     "slide_type": "subslide"
    }
   },
   "source": [
    "Alternatively, we can use Numpy N-dimensional arrays, which store data contiguously\n",
    "<img src=\"img/pyarray.png\" alt=\"img/pyarray\" width=\"150\"/>"
   ]
  },
  {
   "cell_type": "code",
   "execution_count": 3,
   "metadata": {
    "slideshow": {
     "slide_type": "fragment"
    }
   },
   "outputs": [
    {
     "name": "stdout",
     "output_type": "stream",
     "text": [
      "The array is:  [1.  2.  3.  4.  1.5 2.3 3.5]\n",
      "It contains elements of homogeneous type:  float64\n",
      "It has shape:  (7,)\n"
     ]
    }
   ],
   "source": [
    "import numpy as np\n",
    "\n",
    "a = np.array([1,2,3,4, 1.5, 2.3, 3.5])\n",
    "print(\"The array is: \", a)\n",
    "print(\"It contains elements of homogeneous type: \" , a.dtype)\n",
    "print(\"It has shape: \", a.shape)"
   ]
  },
  {
   "cell_type": "markdown",
   "metadata": {
    "slideshow": {
     "slide_type": "fragment"
    }
   },
   "source": [
    "<center><strong>Always use Numpy for numerical data</strong></center>"
   ]
  },
  {
   "cell_type": "markdown",
   "metadata": {
    "slideshow": {
     "slide_type": "subslide"
    }
   },
   "source": [
    "# Row-Major and Column-Major\n",
    "\n",
    "Data of matrices is stored contiguously, so we should also access it contiguously"
   ]
  },
  {
   "cell_type": "code",
   "execution_count": 196,
   "metadata": {
    "slideshow": {
     "slide_type": "fragment"
    }
   },
   "outputs": [
    {
     "name": "stdout",
     "output_type": "stream",
     "text": [
      "76.9 µs ± 17.3 µs per loop (mean ± std. dev. of 7 runs, 10000 loops each)\n",
      "6.41 µs ± 181 ns per loop (mean ± std. dev. of 7 runs, 100000 loops each)\n"
     ]
    }
   ],
   "source": [
    "W = np.random.rand(4096, 4096)\n",
    "\n",
    "# Why is it important to have contiguous data:\n",
    "%timeit W[:,0].mean()\n",
    "%timeit W[0,:].mean()"
   ]
  },
  {
   "cell_type": "markdown",
   "metadata": {
    "slideshow": {
     "slide_type": "slide"
    }
   },
   "source": [
    "# Jastrow Wavefunction\n",
    "\n",
    "The jastrow ansatz for the wavefunction is:\n",
    "$$\n",
    "\\log\\psi_{W}(\\sigma_1, \\dots, \\sigma_N) = \\sigma^T W \\sigma\n",
    "$$\n",
    "\n",
    "The matrix $W\\in\\mathbb{C}^N\\times\\mathbb{C}^N$  while $\\sigma\\in\\mathcal{H}\\sim\\{\\pm1\\}^N$"
   ]
  },
  {
   "cell_type": "code",
   "execution_count": 5,
   "metadata": {
    "slideshow": {
     "slide_type": "fragment"
    }
   },
   "outputs": [],
   "source": [
    "# Generate the weight matrix and a state\n",
    "def jastrow_init(N):\n",
    "    # Sum the real and imaginary parts, both normally distributed around 0\n",
    "    W = np.random.randn(N, N) + 1j * np.random.randn(N, N)\n",
    "    \n",
    "    # Take N times one element in the set {0,1}\n",
    "    σ = np.random.choice([-1, 1], N)\n",
    "    \n",
    "    return W, σ"
   ]
  },
  {
   "cell_type": "code",
   "execution_count": 6,
   "metadata": {
    "slideshow": {
     "slide_type": "subslide"
    }
   },
   "outputs": [
    {
     "name": "stdout",
     "output_type": "stream",
     "text": [
      "The shape of W is: (1024, 1024) and type: complex128\n",
      "The shape of σ is: (1024,) and type: int64\n"
     ]
    }
   ],
   "source": [
    "W, σ = jastrow_init(2**10)\n",
    "print(\"The shape of W is:\", W.shape, \"and type:\", W.dtype)\n",
    "print(\"The shape of σ is:\", σ.shape, \"and type:\", σ.dtype)"
   ]
  },
  {
   "cell_type": "code",
   "execution_count": 7,
   "metadata": {
    "slideshow": {
     "slide_type": "fragment"
    }
   },
   "outputs": [
    {
     "name": "stdout",
     "output_type": "stream",
     "text": [
      "416 µs ± 43.4 µs per loop (mean ± std. dev. of 7 runs, 1000 loops each)\n"
     ]
    }
   ],
   "source": [
    "%timeit np.dot(σ, np.dot(W, σ))"
   ]
  },
  {
   "cell_type": "code",
   "execution_count": 8,
   "metadata": {
    "slideshow": {
     "slide_type": "fragment"
    }
   },
   "outputs": [
    {
     "name": "stdout",
     "output_type": "stream",
     "text": [
      "112 µs ± 7.33 µs per loop (mean ± std. dev. of 7 runs, 10000 loops each)\n"
     ]
    }
   ],
   "source": [
    "# Convert to single precision\n",
    "W_sd = W.astype(np.complex64)\n",
    "σ_sd = σ.astype(np.float32)\n",
    "\n",
    "%timeit np.dot(σ_sd, np.dot(W_sd, σ_sd))"
   ]
  },
  {
   "cell_type": "markdown",
   "metadata": {
    "slideshow": {
     "slide_type": "subslide"
    }
   },
   "source": [
    "In general it is computationally more efficient to use single precision than double, unless you need that extra precision."
   ]
  },
  {
   "cell_type": "code",
   "execution_count": 9,
   "metadata": {
    "slideshow": {
     "slide_type": "fragment"
    }
   },
   "outputs": [],
   "source": [
    "# Generate the weight matrix and a state\n",
    "def jastrow_init(N):\n",
    "    # Sum the real and imaginary parts, both normally distributed around 0\n",
    "    W = np.random.randn(N, N) + 1j * np.random.randn(N, N)\n",
    "    \n",
    "    # Take N times one element in the set {0,1}\n",
    "    σ = np.random.choice([-1, 1], N)\n",
    "    \n",
    "    # Convert those matrices to single precision\n",
    "    return W.astype(np.complex64), σ.astype(np.float32)"
   ]
  },
  {
   "cell_type": "markdown",
   "metadata": {
    "slideshow": {
     "slide_type": "subslide"
    }
   },
   "source": [
    "$$\n",
    "\\psi_{W}(\\sigma_1, \\dots, \\sigma_N) = \\exp[\\sum_{i,j} \\sigma_i W_{i,j} \\sigma_j] = \\exp[\\sigma^T W \\sigma]\n",
    "$$"
   ]
  },
  {
   "cell_type": "code",
   "execution_count": 10,
   "metadata": {
    "slideshow": {
     "slide_type": "fragment"
    }
   },
   "outputs": [],
   "source": [
    "# Let's define the algorithm in python\n",
    "def jastrow_py(W,σ):\n",
    "    res = 0.0\n",
    "    N = len(σ)\n",
    "    for i in range(N):\n",
    "        for j in range(N):\n",
    "            res += σ[i]*W[i,j]*σ[j]\n",
    "    return res"
   ]
  },
  {
   "cell_type": "code",
   "execution_count": 11,
   "metadata": {
    "slideshow": {
     "slide_type": "fragment"
    }
   },
   "outputs": [],
   "source": [
    "# Let's define the algorithm in python\n",
    "def jastrow_np(W,σ):\n",
    "    return np.dot(σ, np.dot(W, σ))"
   ]
  },
  {
   "cell_type": "code",
   "execution_count": 12,
   "metadata": {
    "slideshow": {
     "slide_type": "fragment"
    }
   },
   "outputs": [
    {
     "name": "stdout",
     "output_type": "stream",
     "text": [
      "(-536.3853633862235+519.6094370875746j)\n",
      "(-536.3849+519.60913j)\n"
     ]
    }
   ],
   "source": [
    "W, σ = jastrow_init(2**10)\n",
    "print(jastrow_py(W, σ))\n",
    "print(jastrow_np(W, σ))"
   ]
  },
  {
   "cell_type": "markdown",
   "metadata": {
    "slideshow": {
     "slide_type": "subslide"
    }
   },
   "source": [
    " Which one is faster?"
   ]
  },
  {
   "cell_type": "code",
   "execution_count": 13,
   "metadata": {
    "slideshow": {
     "slide_type": "skip"
    }
   },
   "outputs": [],
   "source": [
    "# Now let's see how it scales\n",
    "Ns = np.array([16, 32, 64, 128, 256, 512, 1024, 2048, 4096])"
   ]
  },
  {
   "cell_type": "code",
   "execution_count": 14,
   "metadata": {
    "slideshow": {
     "slide_type": "skip"
    }
   },
   "outputs": [],
   "source": [
    "times_py = []\n",
    "\n",
    "for N in Ns[:6]:\n",
    "    A, v = jastrow_init(N)\n",
    "    \n",
    "    tpy = %timeit -q -o -r2 jastrow_py(A, v)\n",
    "    times_py.append(tpy.average)"
   ]
  },
  {
   "cell_type": "code",
   "execution_count": 15,
   "metadata": {
    "slideshow": {
     "slide_type": "skip"
    }
   },
   "outputs": [],
   "source": [
    "times_np = []\n",
    "\n",
    "for N in Ns[:9]:\n",
    "    A, v = jastrow_init(N)\n",
    "    \n",
    "    tnp = %timeit -q -o -r2 jastrow_np(A, v)    \n",
    "    times_np.append(tnp.average)"
   ]
  },
  {
   "cell_type": "code",
   "execution_count": 16,
   "metadata": {
    "slideshow": {
     "slide_type": "fragment"
    }
   },
   "outputs": [
    {
     "data": {
      "image/png": "[encoded data removed]",
      "text/plain": [
       "<Figure size 432x288 with 1 Axes>"
      ]
     },
     "metadata": {
      "needs_background": "light"
     },
     "output_type": "display_data"
    }
   ],
   "source": [
    "times_fig = plt.figure(\"Jastrow timings\")\n",
    "ax = plt.subplot(111)\n",
    "ax.set_xlabel(\"N (Vector size)\")\n",
    "ax.set_ylabel(\"time (s)\");\n",
    "\n",
    "ax.plot(Ns[:len(times_py)], times_py, label=\"python\", marker=\"*\");\n",
    "ax.plot(Ns[:len(times_np)], times_np, label=\"numpy\", marker=\"*\");\n",
    "ax.legend()\n",
    "ax.set_yscale(\"log\");"
   ]
  },
  {
   "cell_type": "markdown",
   "metadata": {
    "slideshow": {
     "slide_type": "subslide"
    }
   },
   "source": [
    "# Using Jax\n",
    "Jax is a library developed by google that re-implements NumPy, exposing some usefull extra functionalities..."
   ]
  },
  {
   "cell_type": "code",
   "execution_count": 17,
   "metadata": {
    "slideshow": {
     "slide_type": "fragment"
    }
   },
   "outputs": [],
   "source": [
    "import jax"
   ]
  },
  {
   "cell_type": "code",
   "execution_count": 18,
   "metadata": {
    "slideshow": {
     "slide_type": "fragment"
    }
   },
   "outputs": [
    {
     "name": "stdout",
     "output_type": "stream",
     "text": [
      "<class 'numpy.ndarray'>\n",
      "<class 'jax.interpreters.xla.DeviceArray'>\n"
     ]
    },
    {
     "name": "stderr",
     "output_type": "stream",
     "text": [
      "/Users/filippovicentini/Documents/pythonenvs/teach-1-nk/lib/python3.8/site-packages/jax/lib/xla_bridge.py:130: UserWarning: No GPU/TPU found, falling back to CPU.\n",
      "  warnings.warn('No GPU/TPU found, falling back to CPU.')\n"
     ]
    },
    {
     "data": {
      "text/plain": [
       "DeviceArray([[10.2254715, 10.847579 , 10.881239 , 10.768181 ],\n",
       "             [10.77719  , 10.404031 , 10.981039 , 10.150138 ],\n",
       "             [10.593621 , 10.836733 , 10.361648 , 10.136488 ],\n",
       "             [10.169981 , 10.58313  , 10.275138 , 10.134008 ]],            dtype=float32)"
      ]
     },
     "execution_count": 18,
     "metadata": {},
     "output_type": "execute_result"
    }
   ],
   "source": [
    "W  = np.random.rand(4,4)\n",
    "print(type(W))\n",
    "Wj = jax.numpy.array(W)\n",
    "print(type(Wj))\n",
    "Wj + 10"
   ]
  },
  {
   "cell_type": "code",
   "execution_count": 19,
   "metadata": {
    "slideshow": {
     "slide_type": "subslide"
    }
   },
   "outputs": [],
   "source": [
    "# jax.numpy behaves the same as numpy, but always returns\n",
    "from jax import numpy as jnp"
   ]
  },
  {
   "cell_type": "code",
   "execution_count": 20,
   "metadata": {
    "slideshow": {
     "slide_type": "fragment"
    }
   },
   "outputs": [],
   "source": [
    "def jastrow_init_jax(N):\n",
    "    W, σ = jastrow_init(N)\n",
    "    return jnp.array(W), jnp.array(σ)"
   ]
  },
  {
   "cell_type": "code",
   "execution_count": 21,
   "metadata": {
    "slideshow": {
     "slide_type": "subslide"
    }
   },
   "outputs": [],
   "source": [
    "def jastrow_jax(W,σ):\n",
    "    return jnp.dot(σ, jnp.dot(W, σ))"
   ]
  },
  {
   "cell_type": "code",
   "execution_count": 22,
   "metadata": {
    "slideshow": {
     "slide_type": "fragment"
    }
   },
   "outputs": [],
   "source": [
    "times_jax = []\n",
    "\n",
    "for N in Ns[:9]:\n",
    "    A, v = jastrow_init_jax(N)\n",
    "    \n",
    "    tpy = %timeit -q -o -r2 jastrow_jax(A, v)\n",
    "    times_jax.append(tpy.average)"
   ]
  },
  {
   "cell_type": "code",
   "execution_count": 23,
   "metadata": {
    "slideshow": {
     "slide_type": "fragment"
    }
   },
   "outputs": [
    {
     "data": {
      "image/png": "[encoded data removed]",
      "text/plain": [
       "<Figure size 432x288 with 1 Axes>"
      ]
     },
     "execution_count": 23,
     "metadata": {},
     "output_type": "execute_result"
    }
   ],
   "source": [
    "ax.plot(Ns[:len(times_jax)], times_jax, label=\"jax\", marker=\"*\");\n",
    "ax.legend()\n",
    "times_fig"
   ]
  },
  {
   "cell_type": "code",
   "execution_count": 24,
   "metadata": {
    "slideshow": {
     "slide_type": "subslide"
    }
   },
   "outputs": [],
   "source": [
    "# Just-in-time compilation of the function\n",
    "def jastrow_jax_test(W,σ):\n",
    "    print(\"executing on W of type\", type(W), \"and shape\", W.shape)\n",
    "    print(\"             σ of type\", type(σ), \"and shape\", σ.shape)\n",
    "\n",
    "    return jnp.dot(σ, jnp.dot(W, σ))"
   ]
  },
  {
   "cell_type": "code",
   "execution_count": 25,
   "metadata": {
    "slideshow": {
     "slide_type": "fragment"
    }
   },
   "outputs": [
    {
     "name": "stdout",
     "output_type": "stream",
     "text": [
      "executing on W of type <class 'jax.interpreters.xla.DeviceArray'> and shape (2, 2)\n",
      "             σ of type <class 'jax.interpreters.xla.DeviceArray'> and shape (2,)\n"
     ]
    },
    {
     "data": {
      "text/plain": [
       "DeviceArray(1.9205296-2.0026445j, dtype=complex64)"
      ]
     },
     "execution_count": 25,
     "metadata": {},
     "output_type": "execute_result"
    }
   ],
   "source": [
    "A, v = jastrow_init_jax(2)\n",
    "\n",
    "jastrow_jax_test(A,v)"
   ]
  },
  {
   "cell_type": "code",
   "execution_count": 26,
   "metadata": {
    "scrolled": true,
    "slideshow": {
     "slide_type": "fragment"
    }
   },
   "outputs": [
    {
     "name": "stdout",
     "output_type": "stream",
     "text": [
      "executing on W of type <class 'jax.interpreters.partial_eval.DynamicJaxprTracer'> and shape (2, 2)\n",
      "             σ of type <class 'jax.interpreters.partial_eval.DynamicJaxprTracer'> and shape (2,)\n",
      "CPU times: user 18.8 ms, sys: 1.92 ms, total: 20.7 ms\n",
      "Wall time: 17.6 ms\n"
     ]
    },
    {
     "data": {
      "text/plain": [
       "DeviceArray(1.9205296-2.0026445j, dtype=complex64)"
      ]
     },
     "execution_count": 26,
     "metadata": {},
     "output_type": "execute_result"
    }
   ],
   "source": [
    "jastrow_jax_jit = jax.jit(jastrow_jax_test)\n",
    "\n",
    "%time jastrow_jax_jit(A,v);"
   ]
  },
  {
   "cell_type": "code",
   "execution_count": 27,
   "metadata": {
    "slideshow": {
     "slide_type": "subslide"
    }
   },
   "outputs": [
    {
     "name": "stdout",
     "output_type": "stream",
     "text": [
      "CPU times: user 447 µs, sys: 173 µs, total: 620 µs\n",
      "Wall time: 438 µs\n",
      "CPU times: user 454 µs, sys: 335 µs, total: 789 µs\n",
      "Wall time: 419 µs\n"
     ]
    },
    {
     "data": {
      "text/plain": [
       "DeviceArray(1.9205296-2.0026445j, dtype=complex64)"
      ]
     },
     "execution_count": 27,
     "metadata": {},
     "output_type": "execute_result"
    }
   ],
   "source": [
    "%time jastrow_jax_jit(A,v);\n",
    "%time jastrow_jax_jit(A,v);"
   ]
  },
  {
   "cell_type": "code",
   "execution_count": 28,
   "metadata": {
    "slideshow": {
     "slide_type": "fragment"
    }
   },
   "outputs": [
    {
     "name": "stdout",
     "output_type": "stream",
     "text": [
      "executing on W of type <class 'jax.interpreters.partial_eval.DynamicJaxprTracer'> and shape (3, 3)\n",
      "             σ of type <class 'jax.interpreters.partial_eval.DynamicJaxprTracer'> and shape (3,)\n",
      "CPU times: user 26 ms, sys: 2.02 ms, total: 28 ms\n",
      "Wall time: 24.6 ms\n"
     ]
    },
    {
     "data": {
      "text/plain": [
       "DeviceArray(1.4897292+2.3282783j, dtype=complex64)"
      ]
     },
     "execution_count": 28,
     "metadata": {},
     "output_type": "execute_result"
    }
   ],
   "source": [
    "A, v = jastrow_init_jax(3)\n",
    "\n",
    "%time jastrow_jax_jit(A,v);"
   ]
  },
  {
   "cell_type": "code",
   "execution_count": 29,
   "metadata": {
    "slideshow": {
     "slide_type": "subslide"
    }
   },
   "outputs": [
    {
     "name": "stdout",
     "output_type": "stream",
     "text": [
      "executing on W of type <class 'jax.interpreters.partial_eval.DynamicJaxprTracer'> and shape (16, 16)\n",
      "             σ of type <class 'jax.interpreters.partial_eval.DynamicJaxprTracer'> and shape (16,)\n",
      "executing on W of type <class 'jax.interpreters.partial_eval.DynamicJaxprTracer'> and shape (32, 32)\n",
      "             σ of type <class 'jax.interpreters.partial_eval.DynamicJaxprTracer'> and shape (32,)\n",
      "executing on W of type <class 'jax.interpreters.partial_eval.DynamicJaxprTracer'> and shape (64, 64)\n",
      "             σ of type <class 'jax.interpreters.partial_eval.DynamicJaxprTracer'> and shape (64,)\n",
      "executing on W of type <class 'jax.interpreters.partial_eval.DynamicJaxprTracer'> and shape (128, 128)\n",
      "             σ of type <class 'jax.interpreters.partial_eval.DynamicJaxprTracer'> and shape (128,)\n",
      "executing on W of type <class 'jax.interpreters.partial_eval.DynamicJaxprTracer'> and shape (256, 256)\n",
      "             σ of type <class 'jax.interpreters.partial_eval.DynamicJaxprTracer'> and shape (256,)\n",
      "executing on W of type <class 'jax.interpreters.partial_eval.DynamicJaxprTracer'> and shape (512, 512)\n",
      "             σ of type <class 'jax.interpreters.partial_eval.DynamicJaxprTracer'> and shape (512,)\n",
      "executing on W of type <class 'jax.interpreters.partial_eval.DynamicJaxprTracer'> and shape (1024, 1024)\n",
      "             σ of type <class 'jax.interpreters.partial_eval.DynamicJaxprTracer'> and shape (1024,)\n",
      "executing on W of type <class 'jax.interpreters.partial_eval.DynamicJaxprTracer'> and shape (2048, 2048)\n",
      "             σ of type <class 'jax.interpreters.partial_eval.DynamicJaxprTracer'> and shape (2048,)\n",
      "executing on W of type <class 'jax.interpreters.partial_eval.DynamicJaxprTracer'> and shape (4096, 4096)\n",
      "             σ of type <class 'jax.interpreters.partial_eval.DynamicJaxprTracer'> and shape (4096,)\n"
     ]
    }
   ],
   "source": [
    "times_jax = []\n",
    "\n",
    "for N in Ns[:9]:\n",
    "    A, v = jastrow_init_jax(N)\n",
    "    \n",
    "    # warmup the jit\n",
    "    jastrow_jax_jit(A, v);\n",
    "    \n",
    "    tpy = %timeit -q -o -r2 jastrow_jax_jit(A, v)\n",
    "    times_jax.append(tpy.average)"
   ]
  },
  {
   "cell_type": "code",
   "execution_count": 30,
   "metadata": {
    "slideshow": {
     "slide_type": "subslide"
    }
   },
   "outputs": [
    {
     "data": {
      "image/png": "[encoded data removed]",
      "text/plain": [
       "<Figure size 432x288 with 1 Axes>"
      ]
     },
     "execution_count": 30,
     "metadata": {},
     "output_type": "execute_result"
    }
   ],
   "source": [
    "ax.plot(Ns[:len(times_jax)], times_jax, label=\"jax+jit\", marker=\"*\");\n",
    "ax.legend()\n",
    "times_fig"
   ]
  },
  {
   "cell_type": "code",
   "execution_count": null,
   "metadata": {},
   "outputs": [],
   "source": []
  },
  {
   "cell_type": "markdown",
   "metadata": {
    "slideshow": {
     "slide_type": "slide"
    }
   },
   "source": [
    "## Using NetKet \n",
    "The devil is in the python"
   ]
  },
  {
   "cell_type": "code",
   "execution_count": 31,
   "metadata": {
    "slideshow": {
     "slide_type": "fragment"
    }
   },
   "outputs": [],
   "source": [
    "# Importing netket (that ain't too hard)\n",
    "import netket as nk"
   ]
  },
  {
   "cell_type": "code",
   "execution_count": 32,
   "metadata": {
    "slideshow": {
     "slide_type": "fragment"
    }
   },
   "outputs": [],
   "source": [
    "# How many spins we want in our model\n",
    "N = 8 \n",
    "\n",
    "# Define a 1D lattice (or graph) for our model\n",
    "graph = nk.graph.Grid([N], pbc=True)"
   ]
  },
  {
   "cell_type": "code",
   "execution_count": 33,
   "metadata": {
    "slideshow": {
     "slide_type": "fragment"
    }
   },
   "outputs": [],
   "source": [
    "# Define the Hilbert space\n",
    "ℋ = nk.hilbert.Spin(graph, s=0.5)"
   ]
  },
  {
   "cell_type": "code",
   "execution_count": 34,
   "metadata": {
    "slideshow": {
     "slide_type": "subslide"
    }
   },
   "outputs": [
    {
     "data": {
      "text/plain": [
       "Grid(length=[8], pbc=True)"
      ]
     },
     "execution_count": 34,
     "metadata": {},
     "output_type": "execute_result"
    }
   ],
   "source": [
    "# The Graph...\n",
    "graph"
   ]
  },
  {
   "cell_type": "code",
   "execution_count": 35,
   "metadata": {
    "slideshow": {
     "slide_type": "fragment"
    }
   },
   "outputs": [
    {
     "data": {
      "text/plain": [
       "8"
      ]
     },
     "execution_count": 35,
     "metadata": {},
     "output_type": "execute_result"
    }
   ],
   "source": [
    "# number of nodes\n",
    "graph.n_sites"
   ]
  },
  {
   "cell_type": "code",
   "execution_count": 36,
   "metadata": {
    "slideshow": {
     "slide_type": "fragment"
    }
   },
   "outputs": [
    {
     "data": {
      "text/plain": [
       "[[1, 7], [0, 2], [1, 3], [2, 4], [3, 5], [4, 6], [5, 7], [0, 6]]"
      ]
     },
     "execution_count": 36,
     "metadata": {},
     "output_type": "execute_result"
    }
   ],
   "source": [
    "# List of tuples of adjacent (connected) sites.\n",
    "graph.adjacency_list()"
   ]
  },
  {
   "cell_type": "markdown",
   "metadata": {
    "slideshow": {
     "slide_type": "slide"
    }
   },
   "source": [
    "# Defining the Network using Jax\n",
    "The convention in Jax, also adopted by netket is that a network/variational function must be constructed through a function $f$ so that:\n",
    " - f takes arbitrary inputs, specifying it's structure\n",
    " - f returns \n",
    "      - An `init_function(rng, input_shape) -> (output_shape, parameters)`\n",
    "      - An `apply_function(parameters, *inputs) -> result`"
   ]
  },
  {
   "cell_type": "code",
   "execution_count": 37,
   "metadata": {
    "slideshow": {
     "slide_type": "fragment"
    }
   },
   "outputs": [],
   "source": [
    "jastrow_jax_batch = jax.vmap(jastrow_jax, in_axes=(None, 0))\n",
    "\n",
    "def Jastrow(W_init=jax.nn.initializers.glorot_normal()):\n",
    "    def init_fun(rng, input_shape):\n",
    "        # all dimensions except the last one\n",
    "        N = input_shape[-1]\n",
    "        input_batches = input_shape[:-1]\n",
    "                        \n",
    "        # Returns output shape and the weights\n",
    "        return input_batches, W_init(rng, (N, N))\n",
    "\n",
    "    def apply_fun(W, σb, **kwargs):    \n",
    "        return jastrow_jax_batch(W, σb) \n",
    "    \n",
    "    return init_fun, apply_fun"
   ]
  },
  {
   "cell_type": "code",
   "execution_count": 111,
   "metadata": {
    "slideshow": {
     "slide_type": "subslide"
    }
   },
   "outputs": [],
   "source": [
    "# Lastly, we wrap this machine in our own netket structure, \n",
    "# which takes as input the \n",
    "# - Hilbert space\n",
    "# - The machine\n",
    "# - the input (and output) types.\n",
    "ψ = nk.machine.Jax(ℋ, Jastrow(), dtype=float)\n",
    "\n",
    "# We initialize the weights with a factorised ansatz\n",
    "tmp = jnp.diag(np.random.randn(N-1), k=1) * 0.11;\n",
    "#tmp2 = jnp.diag(np.random.randn(N-2), k=2) * 2.1;\n",
    "ψ.parameters = jnp.diag(np.random.randn(N)) + tmp + tmp.T.conj()"
   ]
  },
  {
   "cell_type": "markdown",
   "metadata": {
    "slideshow": {
     "slide_type": "slide"
    }
   },
   "source": [
    "## Monte-Carlo Sampling\n",
    "We want to identify the chain $\\sigma \\in \\mathcal{S}$ so that $p(\\sigma \\in \\mathcal{S})\\approx \\vert\\psi(x)\\vert^2$.\n",
    "\n",
    " - Easy! we compute $\\frac{\\vert\\psi(\\sigma)\\vert^2}{\\langle\\psi\\vert\\psi\\rangle}\\ \\  \\forall \\sigma \\in \\mathcal{H}$, we compute the CDF (cumulative distribution function) and then we sample from that"
   ]
  },
  {
   "cell_type": "code",
   "execution_count": 112,
   "metadata": {
    "slideshow": {
     "slide_type": "fragment"
    }
   },
   "outputs": [
    {
     "name": "stdout",
     "output_type": "stream",
     "text": [
      "(256, 8)\n"
     ]
    }
   ],
   "source": [
    "# We collect all the states in the Hilbert space\n",
    "σ_all = ℋ.all_states()\n",
    "print(σ_all.shape)"
   ]
  },
  {
   "cell_type": "code",
   "execution_count": 113,
   "metadata": {
    "slideshow": {
     "slide_type": "fragment"
    }
   },
   "outputs": [
    {
     "name": "stdout",
     "output_type": "stream",
     "text": [
      "shape:  (256,) total =  0.9999999790452421\n"
     ]
    }
   ],
   "source": [
    "# We compute the Probability distribution\n",
    "logψ_v   = ψ.log_val(σ_all)\n",
    "pdf_ex   = jnp.exp(2*logψ_v.real)\n",
    "pdf_ex  /= sum(pdf_ex)\n",
    "print(\"shape: \", pdf_ex.shape, \"total = \", sum(pdf_ex))"
   ]
  },
  {
   "cell_type": "code",
   "execution_count": 114,
   "metadata": {
    "slideshow": {
     "slide_type": "subslide"
    }
   },
   "outputs": [
    {
     "data": {
      "image/png": "[encoded data removed]",
      "text/plain": [
       "<Figure size 432x288 with 1 Axes>"
      ]
     },
     "metadata": {
      "needs_background": "light"
     },
     "output_type": "display_data"
    }
   ],
   "source": [
    "plt.plot(pdf_ex);"
   ]
  },
  {
   "cell_type": "markdown",
   "metadata": {
    "slideshow": {
     "slide_type": "fragment"
    }
   },
   "source": [
    "What is the computational complexity of this sampling, as a function of the number of spins $N$?"
   ]
  },
  {
   "cell_type": "markdown",
   "metadata": {
    "slideshow": {
     "slide_type": "fragment"
    }
   },
   "source": [
    " - Hilbert space size:  $\\dim[\\mathcal{H}] = 2^N$\n",
    " - Number of samples:   $M$\n",
    " - Sampling Complexity ([binary search](https://en.wikipedia.org/wiki/Binary_search_algorithm), by looking at [numpy source](https://github.com/numpy/numpy/blob/feb0794bdb6709861b395818ddf0ea3548310e24/numpy/core/src/multiarray/item_selection.c#L1776)): $\\mathcal{O}(\\log(\\dim[\\mathcal{H}])) $ \n",
    " \n",
    "Direct Sampling Complexity :\n",
    " $$\n",
    "\\mathcal{O}(2^N + M\\cdot N\\log(2)) \\approx \\mathcal{O}(2^N)\n",
    " $$"
   ]
  },
  {
   "cell_type": "markdown",
   "metadata": {
    "slideshow": {
     "slide_type": "slide"
    }
   },
   "source": [
    "## Monte-Carlo Sampling\n",
    "We want to identify the chain $\\sigma \\in \\mathcal{S}$ so that $p(\\sigma \\in \\mathcal{S})\\approx \\vert\\psi(x)\\vert^2$.\n",
    "\n",
    " - Easy! we compute $\\frac{\\vert\\psi(\\sigma)\\vert^2}{\\langle\\psi\\vert\\psi\\rangle}\\ \\  \\forall \\sigma \\in \\mathcal{H}$, we compute the CDF (cumulative distribution function) and then we sample from that.\n",
    "    - $\\mathcal{O}(2^N)$ sampling complexity\n",
    "    - This complexity arises from the denominator of the probability (if we can avoid computing it, we can reduce the complexity)\n",
    "    - Autoregressive networks, for example, are ansatzes which are normalized by construction\n",
    "    \n",
    " - Metropolis - Hastings : If we can compute a $f(\\sigma) \\propto p(\\sigma)$, then we do not need to compute the full PDF. Asymptotically exact."
   ]
  },
  {
   "cell_type": "markdown",
   "metadata": {
    "slideshow": {
     "slide_type": "subslide"
    }
   },
   "source": [
    "## Markov-Chain with Metropolis-Hastings\n",
    " - Consider the function $f(\\sigma) = \\vert\\psi(\\sigma)\\vert^2 \\propto p(\\sigma)$.\n",
    " - Consider a function $T(\\sigma' \\vert \\sigma)$ that given a state $\\sigma$ it returns a transformed state $\\sigma'$.    \n",
    "     \n",
    " 1. Generate an initial random state $\\sigma^{0}$ \n",
    " 2. For every iteration i, $\\sigma^{(i)}$: \n",
    "     1. Generate a candidate $\\sigma'$ by sampling $T(\\sigma'| \\sigma^{(i)})$\n",
    "     2. Calculate the acceptance probability:\n",
    "    $$\n",
    "    \\alpha = \\frac{p(\\sigma')}{p(\\sigma^{(i)})}\\frac{T(\\sigma'|\\sigma^{(i)})}{T(\\sigma^{(i)}|\\sigma')} = \\frac{\\vert\\psi(\\sigma')\\vert^2}{\\vert\\psi(\\sigma^{(i)})\\vert^2}\\frac{T(\\sigma'|\\sigma^{(i)})}{T(\\sigma^{(i)}|\\sigma')} \n",
    "    $$\n",
    "    3. Accept or reject the proposed state $\\sigma'$ with probability $\\alpha$:\n",
    "       - Generate a uniform random number $r$ in the interval $[0,1]$\n",
    "       - If $r<=\\alpha$ then accept the proposed step and set $\\sigma^{(i+1)} = \\sigma'$\n",
    "       - If $r>\\alpha$ then reject the proposed step and set  $\\sigma^{(i+1)} = \\sigma^{(i)}$\n",
    "\n",
    "Note that when the proposed state has a higher amplitude then the previous, $\\alpha>1$ and the state will be accepted with probability $1$, instead if the state has a lower amplitude, the probability to accept it is exponentially suppressed, but never 0."
   ]
  },
  {
   "cell_type": "markdown",
   "metadata": {
    "slideshow": {
     "slide_type": "subslide"
    }
   },
   "source": [
    "## Proof\n",
    "If you are interested, the derivation of MCMC comes from trying to write a transition rule that is stationary at the target distribution\n",
    "\n",
    "$$\n",
    "P(\\sigma'|\\sigma)\\pi(\\sigma) = P(\\sigma|\\sigma')\\pi(\\sigma')\n",
    "$$\n",
    "\n",
    "where $P(\\sigma'|\\sigma)$ is the probability to go from a state $\\sigma'$ from the state $\\sigma$ and $\\pi$ is the target distribution.\n",
    "\n",
    "We define\n",
    "$$\n",
    "    P(\\sigma'|\\sigma)\\equiv T(\\sigma'|\\sigma) A(\\sigma', \\sigma)\n",
    "$$\n",
    "\n",
    "where $T$ is the probability distribution for proposing a move, and A is the probability of accepting this move.\n",
    "By substitution you get\n",
    "\n",
    "$$\n",
    "    \\frac{A(\\sigma', \\sigma)}{A(\\sigma, \\sigma')} = \\frac{\\pi(\\sigma')}{\\pi(\\sigma)}\\frac{T(\\sigma|\\sigma') }{T(\\sigma'|\\sigma)} \\equiv \\alpha\n",
    "$$\n",
    "\n",
    "And Metropolis proposed to consider $A(\\sigma', \\sigma) = \\min\\left[1,\\alpha\\right]$ which satisfies the detailed balance equation above."
   ]
  },
  {
   "cell_type": "markdown",
   "metadata": {
    "slideshow": {
     "slide_type": "subslide"
    }
   },
   "source": [
    "## Implementing a Metropolis-Hastings kernel in Netket\n",
    "\n",
    "Kernel: a _CLASS_ constructed with `MyKernel(local_states, n_sites)` \n",
    "    \n",
    "   Has two methods\n",
    "   \n",
    "   - The transition kernel `MyKernel.transition(rng, σ) -> σ'`\n",
    "   - A random generator of states `MyKernel.random_state(rng, *args) -> σ'`"
   ]
  },
  {
   "cell_type": "code",
   "execution_count": null,
   "metadata": {
    "slideshow": {
     "slide_type": "notes"
    }
   },
   "outputs": [],
   "source": []
  },
  {
   "cell_type": "code",
   "execution_count": 115,
   "metadata": {
    "slideshow": {
     "slide_type": "subslide"
    }
   },
   "outputs": [],
   "source": [
    "class LocalTransitionKernel:\n",
    "    def __init__(self, local_states, size):\n",
    "        self.local_states = jnp.sort(jnp.array(local_states))\n",
    "        self.size = size\n",
    "        self.n_states = self.local_states.size\n",
    "\n",
    "    def transition(self, rng, σ):\n",
    "        rng1, rng2 = jax.random.split(rng, 2)\n",
    "        \n",
    "        si = jax.random.randint(rng1, shape=(1,), minval=0, maxval=self.size)\n",
    "        rs = jax.random.randint(rng2, shape=(1,), minval=0, maxval=self.n_states - 1)\n",
    "\n",
    "        return jax.ops.index_update(\n",
    "            σ, si, self.local_states[rs + (self.local_states[rs] >= σ[si])]\n",
    "        )\n",
    "\n",
    "    def random_state(self, key, state):\n",
    "        keys = jax.random.split(key, 2)\n",
    "\n",
    "        rs = jax.random.randint(\n",
    "            keys[1], shape=(self.size,), minval=0, maxval=self.n_states\n",
    "        )\n",
    "\n",
    "        return keys[0], self.local_states[rs]\n"
   ]
  },
  {
   "cell_type": "code",
   "execution_count": 116,
   "metadata": {
    "slideshow": {
     "slide_type": "subslide"
    }
   },
   "outputs": [],
   "source": [
    "# So for example...\n",
    "mh_kernel = LocalTransitionKernel(ℋ.local_states, ℋ.size)"
   ]
  },
  {
   "cell_type": "code",
   "execution_count": 117,
   "metadata": {
    "slideshow": {
     "slide_type": "fragment"
    }
   },
   "outputs": [
    {
     "data": {
      "text/plain": [
       "DeviceArray([-1., -1.,  1.,  1.,  1., -1.,  1., -1.], dtype=float32)"
      ]
     },
     "execution_count": 117,
     "metadata": {},
     "output_type": "execute_result"
    }
   ],
   "source": [
    "# Jax PRNG Key\n",
    "rng = jax.random.PRNGKey(123)\n",
    "\n",
    "# generate a random state\n",
    "rng, σ = mh_kernel.random_state(rng, None)\n",
    "σ"
   ]
  },
  {
   "cell_type": "code",
   "execution_count": 118,
   "metadata": {
    "slideshow": {
     "slide_type": "fragment"
    }
   },
   "outputs": [
    {
     "name": "stdout",
     "output_type": "stream",
     "text": [
      "[-1. -1.  1.  1.  1. -1.  1. -1.]\n",
      "[-1. -1.  1. -1.  1. -1.  1. -1.]\n"
     ]
    }
   ],
   "source": [
    "print(σ)\n",
    "# generate a random state\n",
    "σp = mh_kernel.transition(rng, σ)\n",
    "print(σp)"
   ]
  },
  {
   "cell_type": "code",
   "execution_count": 164,
   "metadata": {
    "slideshow": {
     "slide_type": "slide"
    }
   },
   "outputs": [],
   "source": [
    "# Sampling\n",
    "sampler = nk.sampler.MetropolisHastings(ψ, \n",
    "                                        LocalTransitionKernel(ℋ.local_states, ℋ.size), \n",
    "                                        n_chains=16, \n",
    "                                        sweep_size=1)"
   ]
  },
  {
   "cell_type": "code",
   "execution_count": 165,
   "metadata": {
    "slideshow": {
     "slide_type": "subslide"
    }
   },
   "outputs": [],
   "source": [
    "chain_length = 5000\n",
    "states = np.zeros((chain_length, sampler.n_chains), dtype=int)"
   ]
  },
  {
   "cell_type": "code",
   "execution_count": 166,
   "metadata": {
    "slideshow": {
     "slide_type": "fragment"
    }
   },
   "outputs": [],
   "source": [
    "# let's reset the initial configuration to a random one\n",
    "sampler.reset()"
   ]
  },
  {
   "cell_type": "code",
   "execution_count": 167,
   "metadata": {
    "slideshow": {
     "slide_type": "fragment"
    }
   },
   "outputs": [],
   "source": [
    "# Let's de-correlate from this initial condition by 'trashing' the first samples\n",
    "for σb in sampler.samples(chain_length//20):\n",
    "    pass"
   ]
  },
  {
   "cell_type": "code",
   "execution_count": 168,
   "metadata": {
    "slideshow": {
     "slide_type": "fragment"
    }
   },
   "outputs": [],
   "source": [
    "for (i, σb) in enumerate(sampler.samples(5000)):\n",
    "    states[i, :] = ℋ.states_to_numbers(np.asarray(σb))"
   ]
  },
  {
   "cell_type": "code",
   "execution_count": 169,
   "metadata": {
    "scrolled": true,
    "slideshow": {
     "slide_type": "subslide"
    }
   },
   "outputs": [
    {
     "data": {
      "image/png": "[encoded data removed]",
      "text/plain": [
       "<Figure size 432x288 with 1 Axes>"
      ]
     },
     "metadata": {
      "needs_background": "light"
     },
     "output_type": "display_data"
    }
   ],
   "source": [
    "fig = plt.figure()\n",
    "ax = fig.add_subplot(111)\n",
    "_, _, _ = ax.hist(states.reshape(-1), bins=256, density=True, label=\"Markov-Chain\")\n",
    "ax.plot(pdf_ex, label=\"Exact\", linestyle='dashed');\n",
    "fig.legend();"
   ]
  },
  {
   "cell_type": "code",
   "execution_count": null,
   "metadata": {
    "slideshow": {
     "slide_type": "skip"
    }
   },
   "outputs": [],
   "source": []
  },
  {
   "cell_type": "markdown",
   "metadata": {
    "slideshow": {
     "slide_type": "slide"
    }
   },
   "source": [
    "# The ising model\n",
    "$$\n",
    "\\hat{H} = \\frac{g}{2} \\sum_i \\sigma^{(x)}_i + \\frac{V}{4}\\sum_{\\langle i,j\\rangle} \\sigma_i^{(z)}\\sigma_j^{(z)}\n",
    "$$"
   ]
  },
  {
   "cell_type": "code",
   "execution_count": 170,
   "metadata": {
    "slideshow": {
     "slide_type": "fragment"
    }
   },
   "outputs": [],
   "source": [
    "Ĥ = nk.operator.LocalOperator(ℋ)\n",
    "\n",
    "for i in range(graph.n_nodes):\n",
    "    Ĥ += 0.5 * nk.operator.spin.sigmax(ℋ, i)\n",
    "    \n",
    "for (i,j) in graph.adjacency_list():\n",
    "    Ĥ += nk.operator.spin.sigmaz(ℋ, i) * nk.operator.spin.sigmaz(ℋ, j)"
   ]
  },
  {
   "cell_type": "markdown",
   "metadata": {
    "slideshow": {
     "slide_type": "subslide"
    }
   },
   "source": [
    "## Estimating the Energy $\\langle \\hat{H} \\rangle$\n",
    "\n",
    "We have seen on monday that observables can be rewritten as\n",
    "\n",
    "$$\n",
    "\\langle \\hat{A} \\rangle = \\sum_\\sigma p(\\sigma) A^\\text{LOC}(\\sigma) = \\sum_\\sigma p(\\sigma) \\left( \\sum_{\\sigma'} A(\\sigma, \\sigma')\\frac{psi(\\sigma')}{\\psi(\\sigma)} \\right)\n",
    "$$\n"
   ]
  },
  {
   "cell_type": "code",
   "execution_count": 171,
   "metadata": {
    "slideshow": {
     "slide_type": "fragment"
    }
   },
   "outputs": [],
   "source": [
    "# Now, let's try to estimate some observable: the energy\n",
    "from netket.operator import define_local_cost_function\n",
    "from functools import partial"
   ]
  },
  {
   "cell_type": "code",
   "execution_count": 172,
   "metadata": {
    "slideshow": {
     "slide_type": "fragment"
    }
   },
   "outputs": [],
   "source": [
    "@partial(define_local_cost_function, static_argnums=0, batch_axes=(None, None, 0, 0, 0))\n",
    "def local_energy(logpsi, 𝒲, σp, A_σpσ, σ):\n",
    "    return jax.numpy.sum(A_σpσ * jax.numpy.exp(logpsi(𝒲, σp) - logpsi(𝒲, σ.reshape(1,-1))))"
   ]
  },
  {
   "cell_type": "code",
   "execution_count": 173,
   "metadata": {
    "slideshow": {
     "slide_type": "subslide"
    }
   },
   "outputs": [
    {
     "name": "stdout",
     "output_type": "stream",
     "text": [
      "(80000, 8)\n"
     ]
    }
   ],
   "source": [
    "# Convert the indices in the hilbert space to bit-strings\n",
    "σ_samples = ℋ.numbers_to_states(states.reshape(-1))\n",
    "print(σ_samples.shape)"
   ]
  },
  {
   "cell_type": "code",
   "execution_count": 174,
   "metadata": {
    "slideshow": {
     "slide_type": "fragment"
    }
   },
   "outputs": [
    {
     "name": "stdout",
     "output_type": "stream",
     "text": [
      "σ_samples shape: (80000, 8)\n",
      "σp        shape: (80000, 9, 8)\n",
      "mel       shape: (80000, 9)\n"
     ]
    }
   ],
   "source": [
    "# This command stores gets the non zero elements in the matrix, at the 'rows' of σ_samples\n",
    "σp, A_σpσ = Ĥ.get_conn_padded(σ_samples)\n",
    "# σp are the column...\n",
    "print(\"σ_samples shape:\", σ_samples.shape)\n",
    "print(\"σp        shape:\", σp.shape)\n",
    "print(\"mel       shape:\", A_σpσ.shape)"
   ]
  },
  {
   "cell_type": "code",
   "execution_count": 175,
   "metadata": {
    "slideshow": {
     "slide_type": "fragment"
    }
   },
   "outputs": [
    {
     "name": "stdout",
     "output_type": "stream",
     "text": [
      "eloc      shape: (80000,)\n"
     ]
    }
   ],
   "source": [
    "from netket.operator import local_cost_function\n",
    "\n",
    "eloc = local_cost_function(local_energy, ψ, σp, A_σpσ, σ_samples)\n",
    "print(\"eloc      shape:\", eloc.shape)"
   ]
  },
  {
   "cell_type": "code",
   "execution_count": 176,
   "metadata": {
    "slideshow": {
     "slide_type": "fragment"
    }
   },
   "outputs": [
    {
     "name": "stdout",
     "output_type": "stream",
     "text": [
      "eloc      shape: (5000, 16)\n"
     ]
    }
   ],
   "source": [
    "eloc = eloc.reshape(-1, sampler.n_chains)\n",
    "print(\"eloc      shape:\", eloc.shape)"
   ]
  },
  {
   "cell_type": "markdown",
   "metadata": {
    "slideshow": {
     "slide_type": "subslide"
    }
   },
   "source": [
    "$$\n",
    "\\langle \\hat{H} \\rangle = \\sum_\\sigma p(\\sigma) E^\\text{LOC}(\\sigma) \\sim \\bar{E}^\\text{LOC}\n",
    "$$"
   ]
  },
  {
   "cell_type": "code",
   "execution_count": 177,
   "metadata": {
    "slideshow": {
     "slide_type": "fragment"
    }
   },
   "outputs": [
    {
     "name": "stdout",
     "output_type": "stream",
     "text": [
      "E mean =  (3.8105695+0j)\n"
     ]
    }
   ],
   "source": [
    "# Eloc\n",
    "print(\"E mean = \", eloc.mean())"
   ]
  },
  {
   "cell_type": "markdown",
   "metadata": {
    "slideshow": {
     "slide_type": "fragment"
    }
   },
   "source": [
    "* How do I know if this is a good estimate? "
   ]
  },
  {
   "cell_type": "markdown",
   "metadata": {
    "slideshow": {
     "slide_type": "fragment"
    }
   },
   "source": [
    "The simplest thing: The mean local energy is distributed according to\n",
    "\n",
    "$$\n",
    "\\bar{E}^\\text{LOC} \\sim \\mathcal{N}\\left(\\langle E^\\text{LOC}\\rangle, \\sigma_{\\bar{E}^\\text{LOC}}^2\\right)\n",
    "$$\n",
    "\n",
    "Error of the mean or standard error:\n",
    "$$\n",
    "\\sigma_{\\bar{E}^\\text{LOC}} = \\sqrt{\\frac{\\sigma^2_{E^\\text{LOC}}}{N}}\n",
    "$$"
   ]
  },
  {
   "cell_type": "markdown",
   "metadata": {
    "slideshow": {
     "slide_type": "notes"
    }
   },
   "source": [
    "$$\\bar{E^\\text{LOC}} = \\langle E^\\text{LOC}\\rangle = \\sum_{i=1}^N \\frac{E_i^\\text{LOC}}{N}$$\n",
    "so by propagation of errors\n",
    "\n",
    "$$\n",
    "\\sigma_{\\bar{E}^\\text{LOC}}^2 = \\text{Var}\\left(\\sum_{i=1}^N \\frac{E_i^\\text{LOC}}{N}\\right) = \\frac{1}{N^2}\\left(\\sum_{i=1}^N E_i^\\text{LOC}\\right) = \\frac{1}{N^2}\\sum_{i=1}^N\\text{Var}(E_i^\\text{LOC}) = \\frac{1}{N^2} N\\sigma_E^2 = \\frac{\\sigma_E^2}{N}\n",
    "$$"
   ]
  },
  {
   "cell_type": "code",
   "execution_count": 178,
   "metadata": {
    "slideshow": {
     "slide_type": "fragment"
    }
   },
   "outputs": [
    {
     "name": "stdout",
     "output_type": "stream",
     "text": [
      "E mean =  (3.8105695+0j) ± 0.0102420915\n"
     ]
    }
   ],
   "source": [
    "E_std_error = np.sqrt(eloc.var()/np.prod(eloc.shape))\n",
    "print(\"E mean = \", eloc.mean(), \"±\", E_std_error)"
   ]
  },
  {
   "cell_type": "markdown",
   "metadata": {
    "slideshow": {
     "slide_type": "subslide"
    }
   },
   "source": [
    "The simplest thing: The mean local energy is distributed according to\n",
    "\n",
    "$$\n",
    "\\bar{E}^\\text{LOC} \\sim \\mathcal{N}\\left(\\langle E^\\text{LOC}\\rangle, \\sigma_{\\bar{E}^\\text{LOC}}^2\\right)\n",
    "$$\n",
    "\n",
    "Error of the mean or standard error:\n",
    "$$\n",
    "\\sigma_{\\bar{E}^\\text{LOC}} = \\sqrt{\\frac{\\sigma^2_{E^\\text{LOC}}}{N}}\n",
    "$$"
   ]
  },
  {
   "cell_type": "markdown",
   "metadata": {
    "slideshow": {
     "slide_type": "fragment"
    }
   },
   "source": [
    "Note: The variance of $\\sigma^2_{E^\\text{LOC}}$ is the sample variance only if the samples are independent!"
   ]
  },
  {
   "cell_type": "code",
   "execution_count": 179,
   "metadata": {
    "slideshow": {
     "slide_type": "skip"
    }
   },
   "outputs": [
    {
     "name": "stdout",
     "output_type": "stream",
     "text": [
      "eloc shape:  (5000, 16)\n"
     ]
    },
    {
     "data": {
      "text/plain": [
       "DeviceArray(0.00795979, dtype=float32)"
      ]
     },
     "execution_count": 179,
     "metadata": {},
     "output_type": "execute_result"
    }
   ],
   "source": [
    "print(\"eloc shape: \", eloc.shape)\n",
    "chain_Eloc = eloc.mean(axis=0)\n",
    "chains_var = chain_Eloc.var()\n",
    "chains_var"
   ]
  },
  {
   "cell_type": "markdown",
   "metadata": {
    "slideshow": {
     "slide_type": "subslide"
    }
   },
   "source": [
    "## Batching: De-correlate samples\n",
    "\n",
    "Instead of computing the variance on $\\{E_i^\\text{Loc}\\}$, compute it on $\\{\\sum_i=1^{N_b}\\frac{1}{N_b}E_i^\\text{Loc}\\}$"
   ]
  },
  {
   "cell_type": "code",
   "execution_count": 187,
   "metadata": {
    "slideshow": {
     "slide_type": "fragment"
    }
   },
   "outputs": [],
   "source": [
    "batch_sizes = [1,2,4,8,16,32,64,128] \n",
    "pp = ((chain_length//batch_sizes[-1])*batch_sizes[-1])\n",
    "eloc_c1 = eloc[0:pp,:].reshape(-1)\n",
    "batch_vars = []\n",
    "\n",
    "for bs in batch_sizes:\n",
    "    eloc_c1r = eloc_c1.reshape(bs,-1)\n",
    "    eloc_b = eloc_c1r.mean(axis=0)\n",
    "    var_b = np.sqrt(eloc_b.var()/eloc_c1r.shape[1])\n",
    "    batch_vars.append(var_b)\n"
   ]
  },
  {
   "cell_type": "code",
   "execution_count": 194,
   "metadata": {
    "slideshow": {
     "slide_type": "fragment"
    }
   },
   "outputs": [
    {
     "data": {
      "text/plain": [
       "Text(0, 0.5, 'standard error')"
      ]
     },
     "execution_count": 194,
     "metadata": {},
     "output_type": "execute_result"
    },
    {
     "data": {
      "image/png": "[encoded data removed]",
      "text/plain": [
       "<Figure size 432x288 with 1 Axes>"
      ]
     },
     "metadata": {
      "needs_background": "light"
     },
     "output_type": "display_data"
    }
   ],
   "source": [
    "plt.plot(range(len(batch_sizes)), batch_vars)\n",
    "plt.xlabel(\"batch_iteration\")\n",
    "plt.ylabel(\"standard error\")"
   ]
  },
  {
   "cell_type": "code",
   "execution_count": null,
   "metadata": {},
   "outputs": [],
   "source": []
  },
  {
   "cell_type": "code",
   "execution_count": null,
   "metadata": {},
   "outputs": [],
   "source": []
  },
  {
   "cell_type": "code",
   "execution_count": null,
   "metadata": {},
   "outputs": [],
   "source": []
  },
  {
   "cell_type": "code",
   "execution_count": null,
   "metadata": {},
   "outputs": [],
   "source": []
  },
  {
   "cell_type": "code",
   "execution_count": null,
   "metadata": {},
   "outputs": [],
   "source": []
  },
  {
   "cell_type": "markdown",
   "metadata": {
    "slideshow": {
     "slide_type": "slide"
    }
   },
   "source": [
    "## How to compute gradients of functions..?"
   ]
  },
  {
   "cell_type": "markdown",
   "metadata": {
    "slideshow": {
     "slide_type": "fragment"
    }
   },
   "source": [
    " - Do the calculations yourself, write code, (get bored to death)\n",
    "     - Slightly change the function, you have to rewrite the gradient too..."
   ]
  },
  {
   "cell_type": "code",
   "execution_count": 65,
   "metadata": {},
   "outputs": [
    {
     "ename": "SyntaxError",
     "evalue": "invalid syntax (<ipython-input-65-d5f4abac073f>, line 1)",
     "output_type": "error",
     "traceback": [
      "\u001b[0;36m  File \u001b[0;32m\"<ipython-input-65-d5f4abac073f>\"\u001b[0;36m, line \u001b[0;32m1\u001b[0m\n\u001b[0;31m    - Finite differences\u001b[0m\n\u001b[0m             ^\u001b[0m\n\u001b[0;31mSyntaxError\u001b[0m\u001b[0;31m:\u001b[0m invalid syntax\n"
     ]
    }
   ],
   "source": [
    "- Finite differences"
   ]
  },
  {
   "cell_type": "markdown",
   "metadata": {},
   "source": [
    "-"
   ]
  },
  {
   "cell_type": "markdown",
   "metadata": {},
   "source": [
    "# How to estimate the (steepest) conjugate gradient?"
   ]
  },
  {
   "cell_type": "markdown",
   "metadata": {},
   "source": [
    "$$\n",
    "F = \\langle O H \\rangle = \n",
    "$$"
   ]
  },
  {
   "cell_type": "code",
   "execution_count": null,
   "metadata": {},
   "outputs": [],
   "source": [
    "from netket.operator import local_costs_and_grads_function\n",
    "\n",
    "eloc , grad_eloc = local_costs_and_grads_function(local_energy, ψ, σp, mel, σ_samples)\n",
    "print(\"grad_eloc shape is: \", grad_eloc.shape)"
   ]
  },
  {
   "cell_type": "markdown",
   "metadata": {},
   "source": [
    "$$\n",
    "\\Delta \\hat{O} \\equiv \\hat{O} - \\langle\\hat{O}\\rangle\n",
    "$$\n",
    "\n",
    "Therefore, every sample gets transformed:\n",
    "\n",
    "$$\n",
    "O^{i} = O^{i} - \\frac{1}{N_\\text{s}} \\sum_{i=1}^{N_{\\text{s}}} O^{i}\n",
    "$$"
   ]
  },
  {
   "cell_type": "code",
   "execution_count": null,
   "metadata": {},
   "outputs": [],
   "source": [
    "### Centering the gradient\n",
    "grad_eloc_centered = grad_eloc - grad_eloc.mean(axis=0)\n",
    "\n",
    "print(\"grad_eloc mean:\\n\", grad_eloc_centered.mean(axis=0)[0:2, 0:2])"
   ]
  },
  {
   "cell_type": "code",
   "execution_count": null,
   "metadata": {},
   "outputs": [],
   "source": []
  },
  {
   "cell_type": "code",
   "execution_count": null,
   "metadata": {},
   "outputs": [],
   "source": []
  },
  {
   "cell_type": "code",
   "execution_count": null,
   "metadata": {},
   "outputs": [],
   "source": []
  },
  {
   "cell_type": "code",
   "execution_count": null,
   "metadata": {},
   "outputs": [],
   "source": []
  }
 ],
 "metadata": {
  "@webio": {
   "lastCommId": null,
   "lastKernelId": null
  },
  "celltoolbar": "Slideshow",
  "kernelspec": {
   "display_name": "Teaching-1-netket",
   "language": "python",
   "name": "teaching-1-netket"
  },
  "language_info": {
   "codemirror_mode": {
    "name": "ipython",
    "version": 3
   },
   "file_extension": ".py",
   "mimetype": "text/x-python",
   "name": "python",
   "nbconvert_exporter": "python",
   "pygments_lexer": "ipython3",
   "version": "3.8.5"
  }
 },
 "nbformat": 4,
 "nbformat_minor": 4
}
